{
 "cells": [
  {
   "cell_type": "code",
   "execution_count": null,
   "id": "baa8d54a-f87a-4444-b99b-634cccc7c220",
   "metadata": {},
   "outputs": [],
   "source": [
    "# what is multithreading in python ? why is it used? name the module used to handle threads in python."
   ]
  },
  {
   "cell_type": "code",
   "execution_count": null,
   "id": "b0f3c2bb-8e82-40cb-84d4-f32d2072868a",
   "metadata": {},
   "outputs": [],
   "source": [
    "Multithreading is a threading technique in Python programming to run multiple threads concurrently by rapidly switching between threads with a CPU.\n",
    "Besides, it allows sharing of its data space with the main threads inside a process that share information and communication with other threads easier than individual processes.\n",
    "Multithreading aims to perform multiple tasks simultaneously, which increases performance, speed and improves the rendering of the application."
   ]
  },
  {
   "cell_type": "code",
   "execution_count": null,
   "id": "cd50067f-59d1-4f9f-9e1e-7abf6ae992b6",
   "metadata": {},
   "outputs": [],
   "source": [
    "Multiple threads within a process share the same data space with the main thread and can \n",
    "therefore share information or communicate with each other more easily than if they were separate processes"
   ]
  },
  {
   "cell_type": "code",
   "execution_count": null,
   "id": "83a13b4f-d5c7-4566-816a-b7f3f826b783",
   "metadata": {},
   "outputs": [],
   "source": [
    "threading module usedn to handle threads in python."
   ]
  },
  {
   "cell_type": "code",
   "execution_count": null,
   "id": "f72d8ef8-869d-49da-b070-d168c54a6832",
   "metadata": {},
   "outputs": [],
   "source": [
    "# why threading module used? write the use of the following function\n"
   ]
  },
  {
   "cell_type": "code",
   "execution_count": null,
   "id": "ebc92867-2cfd-4a4c-abfb-acf24c911ace",
   "metadata": {},
   "outputs": [],
   "source": [
    " it allows you to have different parts of your program run concurrently and can simplify your design. "
   ]
  },
  {
   "cell_type": "code",
   "execution_count": null,
   "id": "32ed2d3e-da4a-4e88-891e-f6bdab8e57ec",
   "metadata": {},
   "outputs": [],
   "source": [
    "activecount() = Returns the number of thread objects that are active.\n",
    "\n",
    "currentthread() = Returns the number of thread objects in the caller's thread control.\n",
    "\n",
    "enumerate() = adds a counter to an iterable and returns it in a form of enumerating object. This enumerated object can then be used directly for loops\n",
    "or converted into a list of tuples using the list() function."
   ]
  },
  {
   "cell_type": "code",
   "execution_count": null,
   "id": "33f69963-5826-4d83-af56-c7c5f32ce9da",
   "metadata": {},
   "outputs": [],
   "source": [
    "# explain the following functions:\n",
    "1.run() = A run() method is used to define a thread's activity and can be overridden by a class that extends the threads class.\n",
    "\n",
    "2.start() = A start() method is used to initiate the activity of a thread. And it calls only once for each thread so that the execution of the thread can begin.\n",
    "\n",
    "3.join() = A join() method is used to block the execution of another code until the thread terminates.\n",
    "\n",
    "4.isAlive() = The isAlive() method checks whether a thread is still executing. "
   ]
  },
  {
   "cell_type": "code",
   "execution_count": null,
   "id": "5c4c1645-18bd-4dba-a431-6de5cf5cd6c1",
   "metadata": {},
   "outputs": [],
   "source": [
    "# state advantages and disadvantages of multithreading."
   ]
  },
  {
   "cell_type": "code",
   "execution_count": null,
   "id": "0a2fad35-5ea7-43ab-9ba7-2708ffba6768",
   "metadata": {},
   "outputs": [],
   "source": [
    "# advantages \n",
    "1.Improved performance and concurrency\n",
    "2.Simplified coding of remote procedure calls and conversations\n",
    "3.Simultaneous access to multiple applications\n",
    "4.Reduced number of required servers"
   ]
  },
  {
   "cell_type": "code",
   "execution_count": null,
   "id": "6ada4bd9-c68b-45c8-9bdb-939c1a285b03",
   "metadata": {},
   "outputs": [],
   "source": [
    "# disadvantages \n",
    "1.Complex debugging and testing processes.\n",
    "2.Overhead switching of context.\n",
    "3.Increased potential for deadlock occurrence.\n",
    "4.Increased difficulty level in writing a program.\n",
    "5.Unpredictable results."
   ]
  },
  {
   "cell_type": "code",
   "execution_count": null,
   "id": "6222e625-f462-41ac-96b0-6aee80b2dd9b",
   "metadata": {},
   "outputs": [],
   "source": [
    "# explain deadlocks and race conditions."
   ]
  },
  {
   "cell_type": "code",
   "execution_count": null,
   "id": "d6131151-04aa-4063-ba9a-40d4934c76ac",
   "metadata": {},
   "outputs": [],
   "source": [
    "deadlocks = When two processes are waiting for each other directly or indirectly, it is called deadlock.\n",
    "            This usually occurs when two processes are waiting for shared resources acquired by others.\n",
    "    "
   ]
  },
  {
   "cell_type": "code",
   "execution_count": null,
   "id": "daf749c2-7736-4db1-8e28-19496b173fc1",
   "metadata": {},
   "outputs": [],
   "source": [
    "race conditions = A race condition is a bug in concurrency programming. It is a failure case where the behavior of the program is dependent upon the order of execution by two or more threads.\n",
    "This means, the behavior of the program will not be predictable, possibly changing each time it is run."
   ]
  },
  {
   "cell_type": "code",
   "execution_count": null,
   "id": "71968e98-f122-4738-93c8-a1feeb0fb00e",
   "metadata": {},
   "outputs": [],
   "source": [
    "# write a python program to create two threads. thread one must print the list of squares and thread two must print the list of cubes."
   ]
  },
  {
   "cell_type": "code",
   "execution_count": 1,
   "id": "0d96d457-42bb-48b9-82b5-b768de0260b3",
   "metadata": {},
   "outputs": [],
   "source": [
    "import threading"
   ]
  },
  {
   "cell_type": "code",
   "execution_count": 14,
   "id": "c476eff5-c07c-49e3-bce4-dba1e9868a72",
   "metadata": {},
   "outputs": [],
   "source": [
    "def print_cube(num):\n",
    "    print(\"cube: {}\" .format(num*num*num))\n",
    "\n",
    "def print_square(num):\n",
    "    print(\"square: {}\" .format(num*num))\n",
    "\n",
    "\n",
    "    t1 = threading.thread(target=print_square, args=(10,))\n",
    "    t2 = threading.thread(target=print_cube, args=(10,))\n",
    "    t1.start()\n",
    "    t2.start()\n",
    "    \n",
    "    t1.join()\n",
    "    t2.join()\n",
    "    print(\"finish!\")\n",
    "    "
   ]
  },
  {
   "cell_type": "code",
   "execution_count": null,
   "id": "23db307b-c8ec-4a24-8765-337b347fe478",
   "metadata": {},
   "outputs": [],
   "source": []
  }
 ],
 "metadata": {
  "kernelspec": {
   "display_name": "Python 3 (ipykernel)",
   "language": "python",
   "name": "python3"
  },
  "language_info": {
   "codemirror_mode": {
    "name": "ipython",
    "version": 3
   },
   "file_extension": ".py",
   "mimetype": "text/x-python",
   "name": "python",
   "nbconvert_exporter": "python",
   "pygments_lexer": "ipython3",
   "version": "3.10.6"
  }
 },
 "nbformat": 4,
 "nbformat_minor": 5
}
